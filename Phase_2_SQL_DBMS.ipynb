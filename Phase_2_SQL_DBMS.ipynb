{
  "nbformat": 4,
  "nbformat_minor": 0,
  "metadata": {
    "colab": {
      "provenance": []
    },
    "kernelspec": {
      "name": "python3",
      "display_name": "Python 3"
    },
    "language_info": {
      "name": "python"
    }
  },
  "cells": [
    {
      "cell_type": "code",
      "execution_count": 1,
      "metadata": {
        "id": "24PQD0E5jxmh"
      },
      "outputs": [],
      "source": [
        "import sqlite3"
      ]
    },
    {
      "cell_type": "code",
      "source": [
        "import csv"
      ],
      "metadata": {
        "id": "yLub3S3Sk7iF"
      },
      "execution_count": 2,
      "outputs": []
    },
    {
      "cell_type": "code",
      "source": [
        "conn=sqlite3.connect('IMDB.db')\n",
        "cursor=conn.cursor()\n",
        "\n",
        "\n",
        "# Create first table for file1.csv\n",
        "cursor.execute('CREATE TABLE table1(serial_number INTEGER PRIMARY KEY,movie_name TEXT,year INTEGER,director_names TEXT,duration REAL,ratings REAL,metascore REAL);')\n",
        "\n",
        "# Create the second table for file2.csv\n",
        "cursor.execute('CREATE TABLE table2(movie_name TEXT,gross_collection REAL,stars_names TEXT,genre TEXT,votes INTEGER);')\n",
        "\n",
        "conn.commit()"
      ],
      "metadata": {
        "id": "XWsFm35Fk9BW"
      },
      "execution_count": 3,
      "outputs": []
    },
    {
      "cell_type": "code",
      "source": [
        "# import data from file1.csv\n",
        "try:\n",
        "\n",
        "  with open('/content/File_1.csv','r') as file_1:\n",
        "    csv_data1=csv.reader(file_1)\n",
        "    next(csv_data1)\n",
        "    for row in csv_data1:\n",
        "      cursor.execute(\"INSERT INTO table1(serial_number,movie_name,year,director_names,duration,ratings,metascore) VALUES(?,?,?,?,?,?,?)\",(row[0],row[1],row[2],row[3],row[4],row[5],row[6]))\n",
        "\n",
        "\n",
        "# import data from file2.csv\n",
        "  with open('/content/File_2.csv','r') as file_2:\n",
        "    csv_data2=csv.reader(file_2)\n",
        "    next(csv_data2)\n",
        "    for row in csv_data2:\n",
        "      cursor.execute(\"INSERT INTO table2(movie_name,gross_collection,stars_names,genre,votes) VALUES(?,?,?,?,?)\",(row[0],row[1],row[2],row[3],row[4]))\n",
        "\n",
        "# commit the changes\n",
        "  conn.commit()\n",
        "\n",
        "except Exception as e:\n",
        "    print(\"Error:\", str(e))\n",
        "    conn.rollback()\n"
      ],
      "metadata": {
        "id": "J8Xnq7hWqa8V",
        "colab": {
          "base_uri": "https://localhost:8080/"
        },
        "outputId": "ae9d0508-3e28-4a28-ac4e-730e1345f7d6"
      },
      "execution_count": 12,
      "outputs": [
        {
          "output_type": "stream",
          "name": "stdout",
          "text": [
            "Error: UNIQUE constraint failed: table1.serial_number\n"
          ]
        }
      ]
    },
    {
      "cell_type": "code",
      "source": [
        "# Execute the sql query to fetch the movies created by directors Christopher and Matt Reeves.\n",
        "cursor.execute(\"SELECT t1.*,t2.* FROM table1 AS t1 JOIN table2 AS t2 ON t1.director_names WHERE t1.director_names IN ('Christopher','Matt Reeves')\")\n",
        "movies_by_directors=cursor.fetchall()\n",
        "\n",
        "print(\"Movies created by directors Christopher and Matt Reeves:\")\n",
        "for row in movies_by_directors:\n",
        "  print(row)"
      ],
      "metadata": {
        "id": "Bu4FiqJ7tySq",
        "colab": {
          "base_uri": "https://localhost:8080/"
        },
        "outputId": "68b604cd-4e11-4652-9966-767fbaeeaa2e"
      },
      "execution_count": 14,
      "outputs": [
        {
          "output_type": "stream",
          "name": "stdout",
          "text": [
            "Movies created by directors Christopher and Matt Reeves:\n"
          ]
        }
      ]
    },
    {
      "cell_type": "code",
      "source": [
        "# Display all the details of movies with a duration of 140 minutes to 190 minutes\n",
        "cursor.execute(\"SELECT t1.*,t2.* FROM table1 AS t1 JOIN table2 AS t2 ON t1.movie_name=t2.movie_name WHERE (t1.duration>=140 AND t1.duration<=190)\")\n",
        "movies_within_duration=cursor.fetchall()\n",
        "\n",
        "print(\"Movies with a duration between 140 and 190 minutes:\")\n",
        "for row in movies_within_duration:\n",
        "  print(row)"
      ],
      "metadata": {
        "id": "3dENP42p2Wbv",
        "colab": {
          "base_uri": "https://localhost:8080/"
        },
        "outputId": "9199bf5a-5583-4045-c218-095bb761319f"
      },
      "execution_count": 16,
      "outputs": [
        {
          "output_type": "stream",
          "name": "stdout",
          "text": [
            "Movies with a duration between 140 and 190 minutes:\n"
          ]
        }
      ]
    },
    {
      "cell_type": "code",
      "source": [
        "# Display all details of movies with ratings above 7 in ascending order\n",
        "cursor.execute(\"SELECT t1.* FROM table1 AS t1  WHERE t1.ratings>7 ORDER BY t1.ratings ASC\")\n",
        "movies_above_7_ratings=cursor.fetchall()\n",
        "\n",
        "print(\"Movies with ratings above 7 in ascending order:\")\n",
        "for row in movies_above_7_ratings:\n",
        "  print(row)"
      ],
      "metadata": {
        "colab": {
          "base_uri": "https://localhost:8080/"
        },
        "id": "OlYQZkvs-NFB",
        "outputId": "8ff33245-3c35-4a37-db6b-8de8cf806869"
      },
      "execution_count": 22,
      "outputs": [
        {
          "output_type": "stream",
          "name": "stdout",
          "text": [
            "Movies with ratings above 7 in ascending order:\n"
          ]
        }
      ]
    },
    {
      "cell_type": "code",
      "source": [
        "# Display all movie names in descending order.\n",
        "cursor.execute(\"SELECT movie_name FROM table1 UNION SELECT movie_name FROM table2 ORDER BY movie_name DESC\")\n",
        "all_movie_names=cursor.fetchall()\n",
        "\n",
        "print(\"All movie names in descending order:\")\n",
        "for row in all_movie_names:\n",
        "  print(row[0])"
      ],
      "metadata": {
        "id": "kqhS2HzYsnJy",
        "colab": {
          "base_uri": "https://localhost:8080/"
        },
        "outputId": "805d5275-d572-4613-fc74-ad76c76fec56"
      },
      "execution_count": 24,
      "outputs": [
        {
          "output_type": "stream",
          "name": "stdout",
          "text": [
            "All movie names in descending order:\n"
          ]
        }
      ]
    },
    {
      "cell_type": "code",
      "source": [
        "# Display movie name starts with ‘P’ and their rating is greater than 7\n",
        "cursor.execute(\"SELECT movie_name FROM table1 WHERE movie_name LIKE 'P%' AND ratings>7 UNION SELECT movie_name FROM table2 WHERE movie_name LIKE 'P%'\")\n",
        "movies_with_p_and_high_ratings=cursor.fetchall()\n",
        "\n",
        "print(\"Movie names that start with 'P' and have ratings greater than 7:\")\n",
        "for row in movies_with_p_and_high_ratings:\n",
        "  print(row[0])"
      ],
      "metadata": {
        "id": "CGFAtkJOt_mb",
        "colab": {
          "base_uri": "https://localhost:8080/"
        },
        "outputId": "ab4b64a0-6034-41de-cd5a-dcee0241d92c"
      },
      "execution_count": 27,
      "outputs": [
        {
          "output_type": "stream",
          "name": "stdout",
          "text": [
            "Movie names that start with 'P' and have ratings greater than 7:\n"
          ]
        }
      ]
    },
    {
      "cell_type": "code",
      "source": [
        "from IPython.display import display"
      ],
      "metadata": {
        "id": "2Jawjj7zCrxC"
      },
      "execution_count": 32,
      "outputs": []
    },
    {
      "cell_type": "code",
      "source": [
        "# Display all movie names with star Arnold Schwarzenegger in ascending order\n",
        "cursor.execute(\"SELECT movie_name FROM table1 UNION SELECT movie_name FROM table2 WHERE stars_names LIKE '%Arnold Schwarzenegger%' ORDER BY movie_name ASC\")\n",
        "movies_with_arnold=cursor.fetchall()\n",
        "\n",
        "print(\"All movie names with star Arnold Schwarzenegger in ascending order:\")\n",
        "for row in movies_with_arnold:\n",
        "  display(row[0])"
      ],
      "metadata": {
        "id": "mBvUXu3FwdJd",
        "colab": {
          "base_uri": "https://localhost:8080/"
        },
        "outputId": "309f9a2f-9186-4a97-94e4-d28cb60b519f"
      },
      "execution_count": 33,
      "outputs": [
        {
          "output_type": "stream",
          "name": "stdout",
          "text": [
            "All movie names with star Arnold Schwarzenegger in ascending order:\n"
          ]
        }
      ]
    },
    {
      "cell_type": "code",
      "source": [
        "# Display all details of the movie with the highest number of votes\n",
        "cursor.execute(\"SELECT * FROM table2 ORDER BY votes DESC LIMIT 1\")\n",
        "movie_with_highest_votes=cursor.fetchall()\n",
        "\n",
        "print(\"Details  of the movie with the highest number of votes:\")\n",
        "for row in movie_with_highest_votes:\n",
        "  print(row)"
      ],
      "metadata": {
        "id": "j1DvERIV1z3D",
        "colab": {
          "base_uri": "https://localhost:8080/"
        },
        "outputId": "7c047c65-2cde-415f-c06f-8617282db135"
      },
      "execution_count": 36,
      "outputs": [
        {
          "output_type": "stream",
          "name": "stdout",
          "text": [
            "Details  of the movie with the highest number of votes:\n"
          ]
        }
      ]
    },
    {
      "cell_type": "code",
      "source": [
        "# Display movie names with gross collections in descending order\n",
        "cursor.execute(\"SELECT movie_name FROM table2 ORDER BY gross_collection DESC\")\n",
        "movies_by_gross_collection=cursor.fetchall()\n",
        "\n",
        "print(\"Movie names with gross collection in descending order:\")\n",
        "for row in movies_by_gross_collection:\n",
        "  print(row[0])"
      ],
      "metadata": {
        "id": "tPh-5Pgm4L9s",
        "colab": {
          "base_uri": "https://localhost:8080/"
        },
        "outputId": "8907d419-f53c-4597-da16-a26f1f1a9b65"
      },
      "execution_count": 38,
      "outputs": [
        {
          "output_type": "stream",
          "name": "stdout",
          "text": [
            "Movie names with gross collection in descending order:\n"
          ]
        }
      ]
    },
    {
      "cell_type": "code",
      "source": [
        "# Display the gross collection of movies with the star Arnold\n",
        "cursor.execute(\"SELECT movie_name,gross_collection FROM table2 WHERE stars_names LIKE '%Arnold Schwarzenegger%'\")\n",
        "movies_with_arnold_gross=cursor.fetchall()\n",
        "\n",
        "print(\"Gross collection of movies with star Arnold Schwarzenegger:\")\n",
        "for row in movies_with_arnold_gross:\n",
        "  print(f\"{row[0]}:{row[1]}\")"
      ],
      "metadata": {
        "id": "mcTR4XK-6KXa",
        "colab": {
          "base_uri": "https://localhost:8080/"
        },
        "outputId": "154dfad3-a6c7-4d58-d990-917686247930"
      },
      "execution_count": 39,
      "outputs": [
        {
          "output_type": "stream",
          "name": "stdout",
          "text": [
            "Gross collection of movies with star Arnold Schwarzenegger:\n"
          ]
        }
      ]
    },
    {
      "cell_type": "code",
      "source": [
        "# Display all details of movies with comedy and action genres\n",
        "cursor.execute(\"SELECT * FROM table2 WHERE genre IN ('comedy','action')\")\n",
        "comedy_action_movies=cursor.fetchall()\n",
        "\n",
        "print(\"Details of movies with comedy and action genres:\")\n",
        "for row in comedy_action_movies:\n",
        "  print(row)"
      ],
      "metadata": {
        "id": "ZEhqT47D8M-D",
        "colab": {
          "base_uri": "https://localhost:8080/"
        },
        "outputId": "c84539dc-f045-4ba1-a323-2fc68f70e281"
      },
      "execution_count": 40,
      "outputs": [
        {
          "output_type": "stream",
          "name": "stdout",
          "text": [
            "Details of movies with comedy and action genres:\n"
          ]
        }
      ]
    },
    {
      "cell_type": "code",
      "source": [
        " # Display all details from both tables where movie names are the same\n",
        " cursor.execute(\"SELECT t1.*,t2.* FROM table1 AS t1 INNER JOIN table2 AS t2 ON t1.movie_name=t2.movie_name\")\n",
        " movies_with_same_name=cursor.fetchall()\n",
        "\n",
        " print(\"Details of movies with the same names:\")\n",
        " for row in movies_with_same_name:\n",
        "  print(row)"
      ],
      "metadata": {
        "id": "yMnc_kOf-wPd",
        "colab": {
          "base_uri": "https://localhost:8080/"
        },
        "outputId": "1f4a1a71-d5b4-4b36-bdcb-81990b7e85f2"
      },
      "execution_count": 41,
      "outputs": [
        {
          "output_type": "stream",
          "name": "stdout",
          "text": [
            "Details of movies with the same names:\n"
          ]
        }
      ]
    },
    {
      "cell_type": "code",
      "source": [
        "# Display all movie names, Director, ratings, and gross collection where the genre is action\n",
        "cursor.execute(\"SELECT movie_name,director_names,ratings FROM table1  UNION SELECT movie_name,gross_collection,NULL FROM table2 WHERE genre='action'\")\n",
        "action_movies_details=cursor.fetchall()\n",
        "\n",
        "print(\"Details of movies with the genre 'action':\")\n",
        "for row in action_movies_details:\n",
        "  movie_name,director_names,ratings,gross_collection=row\n",
        "  print(f\"Movie Name:{movie_name},Director:{director_names},Ratings:{ratings},Gross Collection:{gross_collection}\")"
      ],
      "metadata": {
        "id": "g7JqcGyy8rtV",
        "colab": {
          "base_uri": "https://localhost:8080/"
        },
        "outputId": "e30e384c-c8a4-456a-cc55-fd9431104e45"
      },
      "execution_count": 45,
      "outputs": [
        {
          "output_type": "stream",
          "name": "stdout",
          "text": [
            "Details of movies with the genre 'action':\n"
          ]
        }
      ]
    },
    {
      "cell_type": "code",
      "source": [
        "# Display all details from both tables with the highest gross collection\n",
        "cursor.execute(\"SELECT * FROM table2 ORDER BY gross_collection DESC LIMIT 1\")\n",
        "highest_gross_movie=cursor.fetchall()\n",
        "\n",
        "print(\"Details of the movie with the highest gross collection:\")\n",
        "for row in highest_gross_movie:\n",
        "  print(row)"
      ],
      "metadata": {
        "id": "wKur9LnE-iny",
        "colab": {
          "base_uri": "https://localhost:8080/"
        },
        "outputId": "4a580814-565d-4137-f42a-8dd1ad59b84a"
      },
      "execution_count": 47,
      "outputs": [
        {
          "output_type": "stream",
          "name": "stdout",
          "text": [
            "Details of the movie with the highest gross collection:\n"
          ]
        }
      ]
    },
    {
      "cell_type": "code",
      "source": [
        "# Display all details from both tables with the highest ratings\n",
        "cursor.execute(\"SELECT * FROM table1 ORDER BY ratings DESC LIMIT 1\")\n",
        "highest_rated_movie=cursor.fetchall()\n",
        "\n",
        "print(\"Details of the movie with the highest ratings:\")\n",
        "for row in highest_rated_movie:\n",
        "  print(row)"
      ],
      "metadata": {
        "id": "1vzP5h2P_wUa",
        "colab": {
          "base_uri": "https://localhost:8080/"
        },
        "outputId": "bb5397eb-de67-4baf-dbba-256b59f66dfe"
      },
      "execution_count": 48,
      "outputs": [
        {
          "output_type": "stream",
          "name": "stdout",
          "text": [
            "Details of the movie with the highest ratings:\n"
          ]
        }
      ]
    },
    {
      "cell_type": "code",
      "source": [
        "# Display all details from both tables with the lowest gross collection and lowest ratings\n",
        "cursor.execute(\"SELECT * FROM table1 ORDER BY ratings ASC LIMIT 1\")\n",
        "cursor.execute(\"SELECT * FROM table2 ORDER BY gross_collection ASC\")\n",
        "lowest_gross_lowest_ratings_movie=cursor.fetchall()\n",
        "\n",
        "print(\"Details of the movie with the lowest gross collection  and lowest ratings:\")\n",
        "for row in lowest_gross_lowest_ratings_movie:\n",
        "  print(row)"
      ],
      "metadata": {
        "id": "P0RIIzf3BPD8",
        "colab": {
          "base_uri": "https://localhost:8080/"
        },
        "outputId": "cdf054fe-1310-42fa-f8d6-cbb07d197289"
      },
      "execution_count": 50,
      "outputs": [
        {
          "output_type": "stream",
          "name": "stdout",
          "text": [
            "Details of the movie with the lowest gross collection  and lowest ratings:\n"
          ]
        }
      ]
    },
    {
      "cell_type": "markdown",
      "source": [
        "# Pandas SQL"
      ],
      "metadata": {
        "id": "_OKHtiEJpVxn"
      }
    },
    {
      "cell_type": "code",
      "source": [
        "import pandas as pd\n",
        "!pip install -U pandasql\n",
        "import pandasql as ps"
      ],
      "metadata": {
        "colab": {
          "base_uri": "https://localhost:8080/"
        },
        "id": "BvtTPlzNpa_a",
        "outputId": "bd92fcb6-c277-4e6e-a8db-2f796115a559"
      },
      "execution_count": 51,
      "outputs": [
        {
          "output_type": "stream",
          "name": "stdout",
          "text": [
            "Collecting pandasql\n",
            "  Downloading pandasql-0.7.3.tar.gz (26 kB)\n",
            "  Preparing metadata (setup.py) ... \u001b[?25l\u001b[?25hdone\n",
            "Requirement already satisfied: numpy in /usr/local/lib/python3.10/dist-packages (from pandasql) (1.22.4)\n",
            "Requirement already satisfied: pandas in /usr/local/lib/python3.10/dist-packages (from pandasql) (1.5.3)\n",
            "Requirement already satisfied: sqlalchemy in /usr/local/lib/python3.10/dist-packages (from pandasql) (2.0.19)\n",
            "Requirement already satisfied: python-dateutil>=2.8.1 in /usr/local/lib/python3.10/dist-packages (from pandas->pandasql) (2.8.2)\n",
            "Requirement already satisfied: pytz>=2020.1 in /usr/local/lib/python3.10/dist-packages (from pandas->pandasql) (2022.7.1)\n",
            "Requirement already satisfied: typing-extensions>=4.2.0 in /usr/local/lib/python3.10/dist-packages (from sqlalchemy->pandasql) (4.7.1)\n",
            "Requirement already satisfied: greenlet!=0.4.17 in /usr/local/lib/python3.10/dist-packages (from sqlalchemy->pandasql) (2.0.2)\n",
            "Requirement already satisfied: six>=1.5 in /usr/local/lib/python3.10/dist-packages (from python-dateutil>=2.8.1->pandas->pandasql) (1.16.0)\n",
            "Building wheels for collected packages: pandasql\n",
            "  Building wheel for pandasql (setup.py) ... \u001b[?25l\u001b[?25hdone\n",
            "  Created wheel for pandasql: filename=pandasql-0.7.3-py3-none-any.whl size=26771 sha256=8f1c28177f30a5b0c10bb36c650debf66905dfb485fbed224f9fcdbca77723ea\n",
            "  Stored in directory: /root/.cache/pip/wheels/e9/bc/3a/8434bdcccf5779e72894a9b24fecbdcaf97940607eaf4bcdf9\n",
            "Successfully built pandasql\n",
            "Installing collected packages: pandasql\n",
            "Successfully installed pandasql-0.7.3\n"
          ]
        }
      ]
    },
    {
      "cell_type": "code",
      "source": [
        "df1=pd.read_csv('/content/File_1.csv')\n",
        "df2=pd.read_csv('/content/File_2.csv')"
      ],
      "metadata": {
        "id": "lyHTGoZfppA_"
      },
      "execution_count": 52,
      "outputs": []
    },
    {
      "cell_type": "code",
      "source": [
        "# Display all the details of movies created by directors Christopher and Matt Reeves.\n",
        "query1=\"SELECT * FROM df1 WHERE director_names IN ('Christopher','Matt Reeves') UNION SELECT * FROM df2 WHERE director_names IN ('Christopher','Matt Reeves')\"\n",
        "result1=ps.sqldf(query1)\n",
        "print(\"Query 1:\")\n",
        "print(result1)\n",
        "\n",
        "\n",
        "# Display all the details of movies with a duration of 140 minutes to 190 minutes\n",
        "query2=\"SELECT * FROM df1 WHERE duration BETWEEN 140 AND 190 UNION SELECT * FROM df2 WHERE duration BETWEEN 140 AND 190\"\n",
        "result2=ps.sqldf(query2)\n",
        "print(\"\\nQuery 2:\")\n",
        "print(result2)\n",
        "\n",
        "# Display all details of movies with ratings above 7 in ascending order\n",
        "query3=\"SELECT * FROM df1 WHERE ratings>7 UNION SELECT * FROM df2 WHERE ratings>7 ORDER BY ratings ASC\"\n",
        "result3=ps.sqldf(query3)\n",
        "print(\"\\nQuery 3:\")\n",
        "print(result3)\n",
        "\n",
        "# Display all movie names in descending order\n",
        "query4=\"SELECT movie_name FROM df1 UNION SELECT movie_name FROM df2 ORDER BY movie_name DESC\"\n",
        "result4=ps.sqldf(query4)\n",
        "print(\"\\nQuery 4:\")\n",
        "print(result4)\n",
        "\n",
        "# Display movie name starts with ‘P’ and their rating is greater than 7\n",
        "query5=\"SELECT movie_name FROM df1 WHERE movie_name LIKE 'P%' AND ratings>7 UNION SELECT movie_name FROM df2 WHERE movie_name LIKE 'P%' AND ratings>7\"\n",
        "result5=ps.sqldf(query5)\n",
        "print(\"\\nQuery 5:\")\n",
        "print(result5)\n",
        "\n",
        "# Display all movie names with star Arnold Schwarzenegger in ascending order\n",
        "query6=\"SELECT movie_name FROM df1 WHERE stars_names LIKE '%Arnold Schwarzenegger%' UNION SELECT movie_name FROM df2 WHERE stars_names LIKE '%Arnold Schwarzenegger%' ORDER BY movie_name ASC\"\n",
        "result6=ps.sqldf(query6)\n",
        "print(\"\\nQuery 6:\")\n",
        "print(result6)\n",
        "\n",
        "# Display all details of the movie with the highest number of votes\n",
        "query7=\"SELECT * FROM (SELECT * FROM df1 UNION SELECT * FROM df2) ORDER BY votes DESC LIMIT 1\"\n",
        "result7=ps.sqldf(query7)\n",
        "print(\"\\nQuery 7:\")\n",
        "print(result7)\n",
        "\n",
        "# Display movie names with gross collections in descending order\n",
        "query8=\"SELECT movie_name,gross_collection FROM (SELECT * FROM df1 UNION SELECT * FROM df2) ORDER BY gross_collection DESC\"\n",
        "result8=ps.sqldf(query8)\n",
        "print(\"\\nQuery 8:\")\n",
        "print(result8)\n",
        "\n",
        "# Display the gross collection of movies with the star Arnold\n",
        "query9=\"SELECT gross_collection FROM df1 WHERE stars_names LIKE '%Arnold%' UNION SELECT gross_collection FROM df2 WHERE stars_names LIKE '%Arnold%'\"\n",
        "result9=ps.sqldf(query9)\n",
        "print(\"\\nQuery 9:\")\n",
        "print(result9)\n",
        "\n",
        "# Display all details of movies with comedy and action genres\n",
        "query10=\"SELECT * FROM df1 WHERE genre IN ('comedy','action') UNION SELECT * FROM df2 WHERE genre IN ('comedy','action')\"\n",
        "result10=ps.sqldf(query10)\n",
        "print(\"\\nQuery 10:\")\n",
        "print(result10)\n",
        "\n",
        "# Display all details from both tables where movie names are the same\n",
        "query11=\"SELECT t1.*,t2.* FROM df1 AS t1 INNER JOIN df2 AS t2 ON t1.movie_name=t2.movie_name\"\n",
        "result11=ps.sqldf(query11)\n",
        "print(\"\\nQuery 11:\")\n",
        "print(result11)\n",
        "\n",
        "# Display all movie names, Director, ratings, and gross collection where the genre is action\n",
        "query12=\"SELECT movie_name,director_names,ratings,gross_collection FROM df1 WHERE genre='action' UNION SELECT movie_name,director_names,ratings,gross_collection FROM df2 WHERE genre='action'\"\n",
        "result12=ps.sqldf(query12)\n",
        "print(\"\\nQuery 12:\")\n",
        "print(result12)\n",
        "\n",
        "# Display all details from both tables with the highest gross collection\n",
        "query13=\"SELECT * FROM (SELECT * FROM df1 UNION SELECT * FROM df2) WHERE gross_collection=(SELECT MAX(gross_collection) FROM (SELECT * FROM df1 UNION SELECT * FROM df2))\"\n",
        "result13=ps.sqldf(query13)\n",
        "print(\"\\nQuery 13:\")\n",
        "print(result13)\n",
        "\n",
        "# Display all details from both tables with the highest ratings\n",
        "query14=\"SELECT * FROM (SELECT * FROM df1 UNION SELECT * FROM df2) WHERE ratings=(SELECT MAX(ratings) FROM (SELECT * FROM df1 UNION SELECT * FROM df2))\"\n",
        "result14=ps.sqldf(query14)\n",
        "print(\"\\nQuery 14:\")\n",
        "print(result14)\n",
        "\n",
        "# Display all details from both tables with the lowest gross collection and lowest ratings\n",
        "query15=\"SELECT * FROM (SELECT * FROM df1 UNION SELECT * FROM df2) WHERE gross_collection=(SELECT MIN(gross_collection) FROM (SELECT * FROM df1 UNION SELECT * FROM df2)) AND ratings=(SELECT MIN(ratings) FROM (SELECT * FROM df1 UNION SELECT * FROM df2))\"\n",
        "result15=ps.sqldf(query15)\n",
        "print(\"\\nQuery 15:\")\n",
        "print(result15)"
      ],
      "metadata": {
        "id": "hqgv4pB7N9tF"
      },
      "execution_count": null,
      "outputs": []
    },
    {
      "cell_type": "markdown",
      "source": [
        "# Join Query"
      ],
      "metadata": {
        "id": "hpwi4yszotaQ"
      }
    },
    {
      "cell_type": "code",
      "source": [
        "join_query1=pd.merge(df1[df1['director_names'].isin(['Christopher','Matt Reeves'])],df2[df2['director_names'].isin(['Christopher','Matt Reeves'])],on='movie_name',how='inner')\n",
        "print(\"Query 1 - Movies created by directors Christopher and Matt Reeves:\")\n",
        "print(join_query1)\n",
        "\n",
        "join_query2=pd.merge(df1[(df1['duration']>=140) & (df1['duration']<=190)],df2[(df2['duration']>=140) & (df2['duration']<=190)],on='movie_name',how='inner')\n",
        "print(\"\\nQuery 2 - Movies with a duration of 140 minutes to 190 minutes:\")\n",
        "print(join_query2)\n",
        "\n",
        "join_query3=pd.merge(df1[df1['ratings']>7],df2[df2['ratings']>7],on='movie_name',how='inner').sort_values(by=['ratings_x','ratings_y'])\n",
        "print(\"\\nQuery 3 - Movies with ratings above 7 in ascending order:\")\n",
        "print(join_query3)\n",
        "\n",
        "join_query4=pd.merge(df1[df1['stars_names'].str.contains('Arnold Schwarzenegger')],df2[df2['stars_names'].str.contains('Arnold Schwarzenegger')],on='movie_name',how='inner').sort_values(by='movie_name')\n",
        "movie_names_with_arnold=join_query4['movie_name']\n",
        "print(\"\\nQuery 4 - Movie names with star Arnold Schwarzenegger in ascending order:\")\n",
        "print(movie_names_with_arnold)\n",
        "\n",
        "combined_df=pd.concat([df1,df2])\n",
        "max_gross_collection=combined_df['gross_collection'].max()\n",
        "join_query5=combined_df[combined_df['gross_collection']==max_gross_collection]\n",
        "print(\"\\nQuery 5 - Details of movies with the highest gross collection:\")\n",
        "print(join_query5)"
      ],
      "metadata": {
        "id": "xinRAy_BOhak"
      },
      "execution_count": null,
      "outputs": []
    },
    {
      "cell_type": "code",
      "source": [],
      "metadata": {
        "id": "vnlb9SPpw25k"
      },
      "execution_count": null,
      "outputs": []
    }
  ]
}