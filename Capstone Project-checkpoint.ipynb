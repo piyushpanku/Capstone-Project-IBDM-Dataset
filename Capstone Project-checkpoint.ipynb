{
 "cells": [
  {
   "cell_type": "code",
   "execution_count": 18,
   "id": "754a183b",
   "metadata": {},
   "outputs": [
    {
     "name": "stdout",
     "output_type": "stream",
     "text": [
      "Requirement already satisfied: selenium in c:\\users\\asus\\anaconda3\\lib\\site-packages (4.8.0)\n",
      "Requirement already satisfied: certifi>=2021.10.8 in c:\\users\\asus\\anaconda3\\lib\\site-packages (from selenium) (2022.12.7)\n",
      "Requirement already satisfied: urllib3[socks]~=1.26 in c:\\users\\asus\\anaconda3\\lib\\site-packages (from selenium) (1.26.15)\n",
      "Requirement already satisfied: trio-websocket~=0.9 in c:\\users\\asus\\anaconda3\\lib\\site-packages (from selenium) (0.9.2)\n",
      "Requirement already satisfied: trio~=0.17 in c:\\users\\asus\\anaconda3\\lib\\site-packages (from selenium) (0.22.0)\n",
      "Requirement already satisfied: exceptiongroup>=1.0.0rc9 in c:\\users\\asus\\anaconda3\\lib\\site-packages (from trio~=0.17->selenium) (1.1.0)\n",
      "Requirement already satisfied: outcome in c:\\users\\asus\\anaconda3\\lib\\site-packages (from trio~=0.17->selenium) (1.2.0)\n",
      "Requirement already satisfied: sniffio in c:\\users\\asus\\anaconda3\\lib\\site-packages (from trio~=0.17->selenium) (1.2.0)\n",
      "Requirement already satisfied: cffi>=1.14 in c:\\users\\asus\\anaconda3\\lib\\site-packages (from trio~=0.17->selenium) (1.15.1)\n",
      "Requirement already satisfied: async-generator>=1.9 in c:\\users\\asus\\anaconda3\\lib\\site-packages (from trio~=0.17->selenium) (1.10)\n",
      "Requirement already satisfied: idna in c:\\users\\asus\\anaconda3\\lib\\site-packages (from trio~=0.17->selenium) (3.4)\n",
      "Requirement already satisfied: attrs>=19.2.0 in c:\\users\\asus\\anaconda3\\lib\\site-packages (from trio~=0.17->selenium) (22.1.0)\n",
      "Requirement already satisfied: sortedcontainers in c:\\users\\asus\\anaconda3\\lib\\site-packages (from trio~=0.17->selenium) (2.4.0)\n",
      "Requirement already satisfied: wsproto>=0.14 in c:\\users\\asus\\anaconda3\\lib\\site-packages (from trio-websocket~=0.9->selenium) (1.2.0)\n",
      "Requirement already satisfied: PySocks!=1.5.7,<2.0,>=1.5.6 in c:\\users\\asus\\anaconda3\\lib\\site-packages (from urllib3[socks]~=1.26->selenium) (1.7.1)\n",
      "Requirement already satisfied: pycparser in c:\\users\\asus\\anaconda3\\lib\\site-packages (from cffi>=1.14->trio~=0.17->selenium) (2.21)\n",
      "Requirement already satisfied: h11<1,>=0.9.0 in c:\\users\\asus\\anaconda3\\lib\\site-packages (from wsproto>=0.14->trio-websocket~=0.9->selenium) (0.14.0)\n"
     ]
    }
   ],
   "source": [
    "!pip install selenium"
   ]
  },
  {
   "cell_type": "code",
   "execution_count": 19,
   "id": "a2874ed0",
   "metadata": {},
   "outputs": [],
   "source": [
    "import selenium\n",
    "import pandas as pd\n",
    "from selenium import webdriver\n",
    "import warnings\n",
    "warnings.filterwarnings('ignore')\n",
    "from selenium.common.exceptions import StaleElementReferenceException,NoSuchElementException\n",
    "from selenium.webdriver.common.by import By\n",
    "import time"
   ]
  },
  {
   "cell_type": "code",
   "execution_count": 20,
   "id": "545a5713",
   "metadata": {},
   "outputs": [
    {
     "name": "stdout",
     "output_type": "stream",
     "text": [
      "Requirement already satisfied: webdriver-manager in c:\\users\\asus\\anaconda3\\lib\\site-packages (3.8.5)\n",
      "Requirement already satisfied: python-dotenv in c:\\users\\asus\\anaconda3\\lib\\site-packages (from webdriver-manager) (1.0.0)\n",
      "Requirement already satisfied: tqdm in c:\\users\\asus\\anaconda3\\lib\\site-packages (from webdriver-manager) (4.65.0)\n",
      "Requirement already satisfied: requests in c:\\users\\asus\\anaconda3\\lib\\site-packages (from webdriver-manager) (2.29.0)\n",
      "Requirement already satisfied: packaging in c:\\users\\asus\\anaconda3\\lib\\site-packages (from webdriver-manager) (23.0)\n",
      "Requirement already satisfied: certifi>=2017.4.17 in c:\\users\\asus\\anaconda3\\lib\\site-packages (from requests->webdriver-manager) (2022.12.7)\n",
      "Requirement already satisfied: idna<4,>=2.5 in c:\\users\\asus\\anaconda3\\lib\\site-packages (from requests->webdriver-manager) (3.4)\n",
      "Requirement already satisfied: urllib3<1.27,>=1.21.1 in c:\\users\\asus\\anaconda3\\lib\\site-packages (from requests->webdriver-manager) (1.26.15)\n",
      "Requirement already satisfied: charset-normalizer<4,>=2 in c:\\users\\asus\\anaconda3\\lib\\site-packages (from requests->webdriver-manager) (2.0.4)\n",
      "Requirement already satisfied: colorama in c:\\users\\asus\\anaconda3\\lib\\site-packages (from tqdm->webdriver-manager) (0.4.6)\n"
     ]
    }
   ],
   "source": [
    "!pip install webdriver-manager"
   ]
  },
  {
   "cell_type": "code",
   "execution_count": 21,
   "id": "bceb455d",
   "metadata": {},
   "outputs": [],
   "source": [
    "from webdriver_manager.chrome import ChromeDriverManager"
   ]
  },
  {
   "cell_type": "code",
   "execution_count": 22,
   "id": "fdd6f014",
   "metadata": {},
   "outputs": [],
   "source": [
    "driver=webdriver.Chrome(ChromeDriverManager().install())"
   ]
  },
  {
   "cell_type": "code",
   "execution_count": 41,
   "id": "dc2c50f2",
   "metadata": {},
   "outputs": [],
   "source": [
    "driver.get(\"https://www.imdb.com/search/title/?genres=action&sort=user_rating,desc&title_type=feature&num_votes=25000,&pf_rd_m=A2FGELUUNOQJNL&pf_rd_p=f11158cc-b50b-4c4d-b0a2-40b32863395b&pf_rd_r=XZ8X52H1R40B7KG5SNZ9&pf_rd_s=right-6&pf_rd_t=15506&pf_rd_i=top&ref_=chttp_gnr_1\")"
   ]
  },
  {
   "cell_type": "code",
   "execution_count": 24,
   "id": "4644e817",
   "metadata": {},
   "outputs": [],
   "source": [
    "sl_no=[]\n",
    "\n",
    "start=1\n",
    "end=1764\n",
    "\n",
    "for page in range(start,end):\n",
    "    try:\n",
    "        serial=driver.find_elements(By.XPATH,\"//span[@class='lister-item-index unbold text-primary']\")\n",
    "        for i in serial:\n",
    "            sl_no.append(i.text)\n",
    "    except NoSuchElementException:\n",
    "        break\n",
    "    try:\n",
    "        next_page=driver.find_element(By.XPATH,'//a[@class=\"lister-page-next next-page\"]')\n",
    "        next_page.click()\n",
    "    except NoSuchElementException:\n",
    "        break"
   ]
  },
  {
   "cell_type": "code",
   "execution_count": 25,
   "id": "5420c3a9",
   "metadata": {},
   "outputs": [
    {
     "data": {
      "text/plain": [
       "1769"
      ]
     },
     "execution_count": 25,
     "metadata": {},
     "output_type": "execute_result"
    }
   ],
   "source": [
    "len(sl_no)"
   ]
  },
  {
   "cell_type": "code",
   "execution_count": 27,
   "id": "01ed6980",
   "metadata": {},
   "outputs": [],
   "source": [
    "Movie_Name =[]\n",
    "\n",
    "start=1\n",
    "end=1764\n",
    "\n",
    "for page in range(start,end):\n",
    "    try:\n",
    "        movie=driver.find_elements(By.XPATH,\"//h3[@class='lister-item-header']/a\")\n",
    "        for i in movie:\n",
    "            Movie_Name.append(i.text)\n",
    "    except NoSuchElementException:\n",
    "        break\n",
    "    try:\n",
    "        next_page=driver.find_element(By.XPATH,'//a[@class=\"lister-page-next next-page\"]')\n",
    "        next_page.click()\n",
    "    except NoSuchElementException:\n",
    "        break "
   ]
  },
  {
   "cell_type": "code",
   "execution_count": 28,
   "id": "c698f3fc",
   "metadata": {},
   "outputs": [
    {
     "data": {
      "text/plain": [
       "1769"
      ]
     },
     "execution_count": 28,
     "metadata": {},
     "output_type": "execute_result"
    }
   ],
   "source": [
    "len(Movie_Name)"
   ]
  },
  {
   "cell_type": "code",
   "execution_count": 30,
   "id": "ddc090c4",
   "metadata": {},
   "outputs": [],
   "source": [
    "Year= []\n",
    "\n",
    "start=1\n",
    "end=1764\n",
    "\n",
    "for page in range(start,end):\n",
    "    try:\n",
    "        y1=driver.find_elements(By.XPATH,\"//span[@class='lister-item-year text-muted unbold']\")\n",
    "        for i in y1:\n",
    "            Year.append(i.text)\n",
    "    except NoSuchElementException:\n",
    "        break\n",
    "    try:\n",
    "        next_page=driver.find_element(By.XPATH,'//a[@class=\"lister-page-next next-page\"]')\n",
    "        next_page.click()\n",
    "    except NoSuchElementException:\n",
    "        break"
   ]
  },
  {
   "cell_type": "code",
   "execution_count": 31,
   "id": "2f90803e",
   "metadata": {},
   "outputs": [
    {
     "data": {
      "text/plain": [
       "1769"
      ]
     },
     "execution_count": 31,
     "metadata": {},
     "output_type": "execute_result"
    }
   ],
   "source": [
    "len(Year)"
   ]
  },
  {
   "cell_type": "code",
   "execution_count": 33,
   "id": "78f1edca",
   "metadata": {},
   "outputs": [],
   "source": [
    "Genre = []\n",
    "\n",
    "start=1\n",
    "end=1764\n",
    "\n",
    "for page in range(start,end):\n",
    "    try:\n",
    "        g1=driver.find_elements(By.XPATH,\"//span[@class='genre']\")\n",
    "        for i in g1:\n",
    "            Genre.append(i.text)\n",
    "    except NoSuchElementException:\n",
    "        break\n",
    "    try:\n",
    "        next_page=driver.find_element(By.XPATH,'//a[@class=\"lister-page-next next-page\"]')\n",
    "        next_page.click()\n",
    "    except NoSuchElementException:\n",
    "        break"
   ]
  },
  {
   "cell_type": "code",
   "execution_count": 34,
   "id": "09b6a076",
   "metadata": {},
   "outputs": [
    {
     "data": {
      "text/plain": [
       "1769"
      ]
     },
     "execution_count": 34,
     "metadata": {},
     "output_type": "execute_result"
    }
   ],
   "source": [
    "len(Genre)"
   ]
  },
  {
   "cell_type": "code",
   "execution_count": 36,
   "id": "c6e39082",
   "metadata": {},
   "outputs": [],
   "source": [
    "Duration = []\n",
    "\n",
    "start=1\n",
    "end=1764\n",
    "\n",
    "for page in range(start,end):\n",
    "    try:\n",
    "        d1=driver.find_elements(By.XPATH,\"//span[@class='runtime']\")\n",
    "        for i in d1:\n",
    "            Duration.append(i.text)\n",
    "    except NoSuchElementException:\n",
    "        break\n",
    "    try:\n",
    "        next_page=driver.find_element(By.XPATH,'//a[@class=\"lister-page-next next-page\"]')\n",
    "        next_page.click()\n",
    "    except NoSuchElementException:\n",
    "        break"
   ]
  },
  {
   "cell_type": "code",
   "execution_count": 37,
   "id": "2ad7d982",
   "metadata": {},
   "outputs": [
    {
     "data": {
      "text/plain": [
       "1769"
      ]
     },
     "execution_count": 37,
     "metadata": {},
     "output_type": "execute_result"
    }
   ],
   "source": [
    "len(Duration)"
   ]
  },
  {
   "cell_type": "code",
   "execution_count": 39,
   "id": "e9554d0b",
   "metadata": {},
   "outputs": [],
   "source": [
    "Ratings = []\n",
    "\n",
    "start=1\n",
    "end=1764\n",
    "\n",
    "for page in range(start,end):\n",
    "    try:\n",
    "        r1=driver.find_elements(By.XPATH,'//div[@class=\"inline-block ratings-imdb-rating\"]//strong')\n",
    "        for i in r1:\n",
    "            Ratings.append(i.text)\n",
    "    except NoSuchElementException:\n",
    "        break\n",
    "    try:\n",
    "        next_page=driver.find_element(By.XPATH,'//a[@class=\"lister-page-next next-page\"]')\n",
    "        next_page.click()\n",
    "    except NoSuchElementException:\n",
    "        break"
   ]
  },
  {
   "cell_type": "code",
   "execution_count": 40,
   "id": "b8950042",
   "metadata": {},
   "outputs": [
    {
     "data": {
      "text/plain": [
       "1769"
      ]
     },
     "execution_count": 40,
     "metadata": {},
     "output_type": "execute_result"
    }
   ],
   "source": [
    "len(Ratings)"
   ]
  },
  {
   "cell_type": "code",
   "execution_count": 42,
   "id": "264bcbb4",
   "metadata": {},
   "outputs": [],
   "source": [
    "Votes = []\n",
    "\n",
    "start=1\n",
    "end=1764\n",
    "\n",
    "for page in range(start,end):\n",
    "    try:\n",
    "        v1=driver.find_elements(By.XPATH,\"//div[@class='lister-item-content']//p[4]/span[2]\")\n",
    "        for i in v1:\n",
    "            Votes.append(i.text)\n",
    "    except NoSuchElementException:\n",
    "        break\n",
    "    try:\n",
    "        next_page=driver.find_element(By.XPATH,'//a[@class=\"lister-page-next next-page\"]')\n",
    "        next_page.click()\n",
    "    except NoSuchElementException:\n",
    "        break"
   ]
  },
  {
   "cell_type": "code",
   "execution_count": 43,
   "id": "c0e9b37e",
   "metadata": {},
   "outputs": [
    {
     "data": {
      "text/plain": [
       "1769"
      ]
     },
     "execution_count": 43,
     "metadata": {},
     "output_type": "execute_result"
    }
   ],
   "source": [
    "len(Votes)"
   ]
  },
  {
   "cell_type": "code",
   "execution_count": 44,
   "id": "c5ae5e47",
   "metadata": {},
   "outputs": [],
   "source": [
    "import numpy as np\n",
    "import requests\n",
    "from bs4 import BeautifulSoup\n",
    "from time import sleep\n",
    "from random import randint"
   ]
  },
  {
   "cell_type": "code",
   "execution_count": 45,
   "id": "2a9d7358",
   "metadata": {},
   "outputs": [],
   "source": [
    "Metascore=[]\n",
    "Gross_collection=[]"
   ]
  },
  {
   "cell_type": "code",
   "execution_count": 46,
   "id": "0a98cb44",
   "metadata": {},
   "outputs": [],
   "source": [
    "pages=np.arange(1,1764,50)"
   ]
  },
  {
   "cell_type": "code",
   "execution_count": 47,
   "id": "1f2a127c",
   "metadata": {},
   "outputs": [],
   "source": [
    "for page in pages:\n",
    "    page=requests.get(\"https://www.imdb.com/search/title/?title_type=feature&num_votes=25000,&genres=action&sort=user_rating,desc&start=\"+str(page)+\"&ref_=adv_nxt\")\n",
    "    soup=BeautifulSoup(page.text,'html.parser')\n",
    "    movie_data=soup.findAll('div',attrs={'class':'lister-item mode-advanced'})\n",
    "    sleep(randint(2,8)) # it gives a sleep to the page of 2 to 8 seconds for sending the requests\n",
    "    for store in movie_data:\n",
    "        meta=store.find('span',class_=\"metascore\").text if store.find('span',class_=\"metascore\") else \"-\"\n",
    "        Metascore.append(meta)\n",
    "        \n",
    "        value=store.find_all('span',attrs={'name':\"nv\"})\n",
    "        \n",
    "        grosses=value[1].text if len(value)>1 else \"-\"\n",
    "        Gross_collection.append(grosses)"
   ]
  },
  {
   "cell_type": "code",
   "execution_count": 48,
   "id": "0b65e774",
   "metadata": {},
   "outputs": [
    {
     "data": {
      "text/plain": [
       "1769"
      ]
     },
     "execution_count": 48,
     "metadata": {},
     "output_type": "execute_result"
    }
   ],
   "source": [
    "len(Metascore)"
   ]
  },
  {
   "cell_type": "code",
   "execution_count": 49,
   "id": "57203465",
   "metadata": {},
   "outputs": [
    {
     "data": {
      "text/plain": [
       "1769"
      ]
     },
     "execution_count": 49,
     "metadata": {},
     "output_type": "execute_result"
    }
   ],
   "source": [
    "len(Gross_collection)"
   ]
  },
  {
   "cell_type": "code",
   "execution_count": 53,
   "id": "9659b9ad",
   "metadata": {},
   "outputs": [],
   "source": [
    "Directors=[]\n",
    "Stars=[]"
   ]
  },
  {
   "cell_type": "code",
   "execution_count": 54,
   "id": "f7d3ec6b",
   "metadata": {},
   "outputs": [],
   "source": [
    "pages=np.arange(1,1769,50)"
   ]
  },
  {
   "cell_type": "code",
   "execution_count": 55,
   "id": "7fe84629",
   "metadata": {},
   "outputs": [],
   "source": [
    "for page in pages:\n",
    "    page=requests.get(\"https://www.imdb.com/search/title/?title_type=feature&num_votes=25000,&genres=action&sort=user_rating,desc&start=\"+str(page)+\"&ref_=adv_nxt\")\n",
    "    soup=BeautifulSoup(page.text,'html.parser')\n",
    "    movie_data=soup.findAll('div',attrs={'class':'lister-item mode-advanced'})\n",
    "    sleep(randint(2,8)) # it gives a sleep to the page of 2 to 8 seconds for sending the requests\n",
    "    for store in movie_data:\n",
    "        \n",
    "        Directors.append([a.text for a in store.find('p',class_='').find_all('a')[0:]])\n",
    "        \n",
    "        Stars.append([a.text for a in store.find('p',class_='').find_all('a')[1:]])"
   ]
  },
  {
   "cell_type": "code",
   "execution_count": 56,
   "id": "5226813d",
   "metadata": {},
   "outputs": [
    {
     "data": {
      "text/plain": [
       "1769"
      ]
     },
     "execution_count": 56,
     "metadata": {},
     "output_type": "execute_result"
    }
   ],
   "source": [
    "len(Directors)"
   ]
  },
  {
   "cell_type": "code",
   "execution_count": 57,
   "id": "3b361540",
   "metadata": {},
   "outputs": [
    {
     "data": {
      "text/plain": [
       "1769"
      ]
     },
     "execution_count": 57,
     "metadata": {},
     "output_type": "execute_result"
    }
   ],
   "source": [
    "len(Stars)"
   ]
  },
  {
   "cell_type": "code",
   "execution_count": 58,
   "id": "9d3e3c78",
   "metadata": {},
   "outputs": [
    {
     "data": {
      "text/html": [
       "<div>\n",
       "<style scoped>\n",
       "    .dataframe tbody tr th:only-of-type {\n",
       "        vertical-align: middle;\n",
       "    }\n",
       "\n",
       "    .dataframe tbody tr th {\n",
       "        vertical-align: top;\n",
       "    }\n",
       "\n",
       "    .dataframe thead th {\n",
       "        text-align: right;\n",
       "    }\n",
       "</style>\n",
       "<table border=\"1\" class=\"dataframe\">\n",
       "  <thead>\n",
       "    <tr style=\"text-align: right;\">\n",
       "      <th></th>\n",
       "      <th>Serial No.</th>\n",
       "      <th>Movie Name</th>\n",
       "      <th>Year</th>\n",
       "      <th>Genre</th>\n",
       "      <th>Duration</th>\n",
       "      <th>Ratings</th>\n",
       "      <th>Metascore</th>\n",
       "      <th>Gross collection</th>\n",
       "      <th>Director</th>\n",
       "      <th>Stars</th>\n",
       "      <th>Votes</th>\n",
       "    </tr>\n",
       "  </thead>\n",
       "  <tbody>\n",
       "    <tr>\n",
       "      <th>0</th>\n",
       "      <td>1.</td>\n",
       "      <td>The Dark Knight</td>\n",
       "      <td>(2008)</td>\n",
       "      <td>Action, Crime, Drama</td>\n",
       "      <td>152 min</td>\n",
       "      <td>9.0</td>\n",
       "      <td>84</td>\n",
       "      <td>$534.86M</td>\n",
       "      <td>[Christopher Nolan, Christian Bale, Heath Ledg...</td>\n",
       "      <td>[Christian Bale, Heath Ledger, Aaron Eckhart, ...</td>\n",
       "      <td>2,739,626</td>\n",
       "    </tr>\n",
       "    <tr>\n",
       "      <th>1</th>\n",
       "      <td>2.</td>\n",
       "      <td>The Lord of the Rings: The Return of the King</td>\n",
       "      <td>(2003)</td>\n",
       "      <td>Action, Adventure, Drama</td>\n",
       "      <td>201 min</td>\n",
       "      <td>9.0</td>\n",
       "      <td>94</td>\n",
       "      <td>$377.85M</td>\n",
       "      <td>[Peter Jackson, Elijah Wood, Viggo Mortensen, ...</td>\n",
       "      <td>[Elijah Wood, Viggo Mortensen, Ian McKellen, O...</td>\n",
       "      <td>1,898,292</td>\n",
       "    </tr>\n",
       "    <tr>\n",
       "      <th>2</th>\n",
       "      <td>3.</td>\n",
       "      <td>Spider-Man: Across the Spider-Verse</td>\n",
       "      <td>(2023)</td>\n",
       "      <td>Animation, Action, Adventure</td>\n",
       "      <td>140 min</td>\n",
       "      <td>8.9</td>\n",
       "      <td>86</td>\n",
       "      <td>-</td>\n",
       "      <td>[Joaquim Dos Santos, Kemp Powers, Justin K. Th...</td>\n",
       "      <td>[Kemp Powers, Justin K. Thompson, Shameik Moor...</td>\n",
       "      <td>183,192</td>\n",
       "    </tr>\n",
       "    <tr>\n",
       "      <th>3</th>\n",
       "      <td>4.</td>\n",
       "      <td>Inception</td>\n",
       "      <td>(2010)</td>\n",
       "      <td>Action, Adventure, Sci-Fi</td>\n",
       "      <td>148 min</td>\n",
       "      <td>8.8</td>\n",
       "      <td>74</td>\n",
       "      <td>$292.58M</td>\n",
       "      <td>[Christopher Nolan, Leonardo DiCaprio, Joseph ...</td>\n",
       "      <td>[Leonardo DiCaprio, Joseph Gordon-Levitt, Elli...</td>\n",
       "      <td>2,431,118</td>\n",
       "    </tr>\n",
       "    <tr>\n",
       "      <th>4</th>\n",
       "      <td>5.</td>\n",
       "      <td>The Lord of the Rings: The Fellowship of the Ring</td>\n",
       "      <td>(2001)</td>\n",
       "      <td>Action, Adventure, Drama</td>\n",
       "      <td>178 min</td>\n",
       "      <td>8.8</td>\n",
       "      <td>92</td>\n",
       "      <td>$315.54M</td>\n",
       "      <td>[Peter Jackson, Elijah Wood, Ian McKellen, Orl...</td>\n",
       "      <td>[Elijah Wood, Ian McKellen, Orlando Bloom, Sea...</td>\n",
       "      <td>1,926,722</td>\n",
       "    </tr>\n",
       "    <tr>\n",
       "      <th>...</th>\n",
       "      <td>...</td>\n",
       "      <td>...</td>\n",
       "      <td>...</td>\n",
       "      <td>...</td>\n",
       "      <td>...</td>\n",
       "      <td>...</td>\n",
       "      <td>...</td>\n",
       "      <td>...</td>\n",
       "      <td>...</td>\n",
       "      <td>...</td>\n",
       "      <td>...</td>\n",
       "    </tr>\n",
       "    <tr>\n",
       "      <th>1764</th>\n",
       "      <td>1,765.</td>\n",
       "      <td>Radhe</td>\n",
       "      <td>(2021)</td>\n",
       "      <td>Action, Crime, Thriller</td>\n",
       "      <td>109 min</td>\n",
       "      <td>1.9</td>\n",
       "      <td>-</td>\n",
       "      <td>-</td>\n",
       "      <td>[Prabhu Deva, Salman Khan, Disha Patani, Rande...</td>\n",
       "      <td>[Salman Khan, Disha Patani, Randeep Hooda, Jac...</td>\n",
       "      <td>179,047</td>\n",
       "    </tr>\n",
       "    <tr>\n",
       "      <th>1765</th>\n",
       "      <td>1,766.</td>\n",
       "      <td>Race 3</td>\n",
       "      <td>(2018)</td>\n",
       "      <td>Action, Crime, Thriller</td>\n",
       "      <td>160 min</td>\n",
       "      <td>1.9</td>\n",
       "      <td>-</td>\n",
       "      <td>$1.69M</td>\n",
       "      <td>[Remo D'Souza, Anil Kapoor, Salman Khan, Bobby...</td>\n",
       "      <td>[Anil Kapoor, Salman Khan, Bobby Deol, Jacquel...</td>\n",
       "      <td>47,806</td>\n",
       "    </tr>\n",
       "    <tr>\n",
       "      <th>1766</th>\n",
       "      <td>1,767.</td>\n",
       "      <td>Angels Apocalypse</td>\n",
       "      <td>(2015)</td>\n",
       "      <td>Action, Fantasy, Sci-Fi</td>\n",
       "      <td>85 min</td>\n",
       "      <td>1.6</td>\n",
       "      <td>-</td>\n",
       "      <td>-</td>\n",
       "      <td>[Sean Cain, Enzo Zelocchi, Enzo Zelocchi, Jana...</td>\n",
       "      <td>[Enzo Zelocchi, Enzo Zelocchi, Jana Rochelle, ...</td>\n",
       "      <td>42,919</td>\n",
       "    </tr>\n",
       "    <tr>\n",
       "      <th>1767</th>\n",
       "      <td>1,768.</td>\n",
       "      <td>The Cost of Deception</td>\n",
       "      <td>(2021)</td>\n",
       "      <td>Action, Crime, Drama</td>\n",
       "      <td>125 min</td>\n",
       "      <td>1.5</td>\n",
       "      <td>-</td>\n",
       "      <td>-</td>\n",
       "      <td>[Keith English, Vivianne Bánovits, András Móze...</td>\n",
       "      <td>[Vivianne Bánovits, András Mózes, Barna Bokor,...</td>\n",
       "      <td>39,598</td>\n",
       "    </tr>\n",
       "    <tr>\n",
       "      <th>1768</th>\n",
       "      <td>1,769.</td>\n",
       "      <td>Sadak 2</td>\n",
       "      <td>(2020)</td>\n",
       "      <td>Action, Drama</td>\n",
       "      <td>133 min</td>\n",
       "      <td>1.2</td>\n",
       "      <td>-</td>\n",
       "      <td>-</td>\n",
       "      <td>[Mahesh Bhatt, Alia Bhatt, Pooja Bhatt, Aditya...</td>\n",
       "      <td>[Alia Bhatt, Pooja Bhatt, Aditya Roy Kapoor, S...</td>\n",
       "      <td>96,349</td>\n",
       "    </tr>\n",
       "  </tbody>\n",
       "</table>\n",
       "<p>1769 rows × 11 columns</p>\n",
       "</div>"
      ],
      "text/plain": [
       "     Serial No.                                         Movie Name    Year  \\\n",
       "0            1.                                    The Dark Knight  (2008)   \n",
       "1            2.      The Lord of the Rings: The Return of the King  (2003)   \n",
       "2            3.                Spider-Man: Across the Spider-Verse  (2023)   \n",
       "3            4.                                          Inception  (2010)   \n",
       "4            5.  The Lord of the Rings: The Fellowship of the Ring  (2001)   \n",
       "...         ...                                                ...     ...   \n",
       "1764     1,765.                                              Radhe  (2021)   \n",
       "1765     1,766.                                             Race 3  (2018)   \n",
       "1766     1,767.                                  Angels Apocalypse  (2015)   \n",
       "1767     1,768.                              The Cost of Deception  (2021)   \n",
       "1768     1,769.                                            Sadak 2  (2020)   \n",
       "\n",
       "                             Genre Duration Ratings   Metascore  \\\n",
       "0             Action, Crime, Drama  152 min     9.0  84           \n",
       "1         Action, Adventure, Drama  201 min     9.0  94           \n",
       "2     Animation, Action, Adventure  140 min     8.9  86           \n",
       "3        Action, Adventure, Sci-Fi  148 min     8.8  74           \n",
       "4         Action, Adventure, Drama  178 min     8.8  92           \n",
       "...                            ...      ...     ...         ...   \n",
       "1764       Action, Crime, Thriller  109 min     1.9           -   \n",
       "1765       Action, Crime, Thriller  160 min     1.9           -   \n",
       "1766       Action, Fantasy, Sci-Fi   85 min     1.6           -   \n",
       "1767          Action, Crime, Drama  125 min     1.5           -   \n",
       "1768                 Action, Drama  133 min     1.2           -   \n",
       "\n",
       "     Gross collection                                           Director  \\\n",
       "0            $534.86M  [Christopher Nolan, Christian Bale, Heath Ledg...   \n",
       "1            $377.85M  [Peter Jackson, Elijah Wood, Viggo Mortensen, ...   \n",
       "2                   -  [Joaquim Dos Santos, Kemp Powers, Justin K. Th...   \n",
       "3            $292.58M  [Christopher Nolan, Leonardo DiCaprio, Joseph ...   \n",
       "4            $315.54M  [Peter Jackson, Elijah Wood, Ian McKellen, Orl...   \n",
       "...               ...                                                ...   \n",
       "1764                -  [Prabhu Deva, Salman Khan, Disha Patani, Rande...   \n",
       "1765           $1.69M  [Remo D'Souza, Anil Kapoor, Salman Khan, Bobby...   \n",
       "1766                -  [Sean Cain, Enzo Zelocchi, Enzo Zelocchi, Jana...   \n",
       "1767                -  [Keith English, Vivianne Bánovits, András Móze...   \n",
       "1768                -  [Mahesh Bhatt, Alia Bhatt, Pooja Bhatt, Aditya...   \n",
       "\n",
       "                                                  Stars      Votes  \n",
       "0     [Christian Bale, Heath Ledger, Aaron Eckhart, ...  2,739,626  \n",
       "1     [Elijah Wood, Viggo Mortensen, Ian McKellen, O...  1,898,292  \n",
       "2     [Kemp Powers, Justin K. Thompson, Shameik Moor...    183,192  \n",
       "3     [Leonardo DiCaprio, Joseph Gordon-Levitt, Elli...  2,431,118  \n",
       "4     [Elijah Wood, Ian McKellen, Orlando Bloom, Sea...  1,926,722  \n",
       "...                                                 ...        ...  \n",
       "1764  [Salman Khan, Disha Patani, Randeep Hooda, Jac...    179,047  \n",
       "1765  [Anil Kapoor, Salman Khan, Bobby Deol, Jacquel...     47,806  \n",
       "1766  [Enzo Zelocchi, Enzo Zelocchi, Jana Rochelle, ...     42,919  \n",
       "1767  [Vivianne Bánovits, András Mózes, Barna Bokor,...     39,598  \n",
       "1768  [Alia Bhatt, Pooja Bhatt, Aditya Roy Kapoor, S...     96,349  \n",
       "\n",
       "[1769 rows x 11 columns]"
      ]
     },
     "execution_count": 58,
     "metadata": {},
     "output_type": "execute_result"
    }
   ],
   "source": [
    "# creating dataframe for scraped data\n",
    "TV_Series = pd.DataFrame({})\n",
    "TV_Series['Serial No.']=sl_no\n",
    "TV_Series['Movie Name'] = Movie_Name\n",
    "TV_Series['Year'] = Year\n",
    "TV_Series['Genre'] = Genre\n",
    "TV_Series['Duration'] = Duration\n",
    "TV_Series['Ratings'] = Ratings\n",
    "TV_Series['Metascore']=Metascore\n",
    "TV_Series['Gross collection']=Gross_collection\n",
    "TV_Series['Director']=Directors\n",
    "TV_Series['Stars']=Stars\n",
    "TV_Series['Votes'] = Votes\n",
    "TV_Series"
   ]
  },
  {
   "cell_type": "code",
   "execution_count": 59,
   "id": "d43a8fe9",
   "metadata": {},
   "outputs": [
    {
     "name": "stdout",
     "output_type": "stream",
     "text": [
      "         genre1     genre2     genre3\n",
      "0        Action      Crime      Drama\n",
      "1        Action  Adventure      Drama\n",
      "2     Animation     Action  Adventure\n",
      "3        Action  Adventure     Sci-Fi\n",
      "4        Action  Adventure      Drama\n",
      "...         ...        ...        ...\n",
      "1764     Action      Crime   Thriller\n",
      "1765     Action      Crime   Thriller\n",
      "1766     Action    Fantasy     Sci-Fi\n",
      "1767     Action      Crime      Drama\n",
      "1768     Action      Drama           \n",
      "\n",
      "[1769 rows x 3 columns]\n"
     ]
    }
   ],
   "source": [
    "import pandas as pd\n",
    "df=pd.DataFrame({'genre':Genre})\n",
    "df[['genre1','genre2','genre3']]=df['genre'].str.split(',',expand=True).fillna('')\n",
    "\n",
    "df['genre1']=df['genre1'].str.strip()\n",
    "df['genre2']=df['genre2'].str.strip()\n",
    "df['genre3']=df['genre3'].str.strip()\n",
    "\n",
    "# Drop the original genre column\n",
    "df.drop(columns=['genre'],inplace=True)\n",
    "print(df)"
   ]
  },
  {
   "cell_type": "code",
   "execution_count": 60,
   "id": "61b924f2",
   "metadata": {},
   "outputs": [
    {
     "name": "stdout",
     "output_type": "stream",
     "text": [
      "           Director_Star                  1                     2  \\\n",
      "0      Christopher Nolan     Christian Bale          Heath Ledger   \n",
      "1          Peter Jackson        Elijah Wood       Viggo Mortensen   \n",
      "2     Joaquim Dos Santos        Kemp Powers    Justin K. Thompson   \n",
      "3      Christopher Nolan  Leonardo DiCaprio  Joseph Gordon-Levitt   \n",
      "4          Peter Jackson        Elijah Wood          Ian McKellen   \n",
      "...                  ...                ...                   ...   \n",
      "1764         Prabhu Deva        Salman Khan          Disha Patani   \n",
      "1765        Remo D'Souza        Anil Kapoor           Salman Khan   \n",
      "1766           Sean Cain      Enzo Zelocchi         Enzo Zelocchi   \n",
      "1767       Keith English  Vivianne Bánovits          András Mózes   \n",
      "1768        Mahesh Bhatt         Alia Bhatt           Pooja Bhatt   \n",
      "\n",
      "                      3                     4                  5  \\\n",
      "0         Aaron Eckhart         Michael Caine               None   \n",
      "1          Ian McKellen         Orlando Bloom               None   \n",
      "2         Shameik Moore      Hailee Steinfeld  Brian Tyree Henry   \n",
      "3           Elliot Page          Ken Watanabe               None   \n",
      "4         Orlando Bloom             Sean Bean               None   \n",
      "...                 ...                   ...                ...   \n",
      "1764      Randeep Hooda         Jackie Shroff               None   \n",
      "1765         Bobby Deol  Jacqueline Fernandez               None   \n",
      "1766      Jana Rochelle     Ryan C.F. Buckley    William Kirkham   \n",
      "1767        Barna Bokor       Gabriella Gubás               None   \n",
      "1768  Aditya Roy Kapoor           Sanjay Dutt               None   \n",
      "\n",
      "                      6     7     8     9  \n",
      "0                  None  None  None  None  \n",
      "1                  None  None  None  None  \n",
      "2     Luna Lauren Velez  None  None  None  \n",
      "3                  None  None  None  None  \n",
      "4                  None  None  None  None  \n",
      "...                 ...   ...   ...   ...  \n",
      "1764               None  None  None  None  \n",
      "1765               None  None  None  None  \n",
      "1766               None  None  None  None  \n",
      "1767               None  None  None  None  \n",
      "1768               None  None  None  None  \n",
      "\n",
      "[1769 rows x 10 columns]\n"
     ]
    }
   ],
   "source": [
    "rows=[]\n",
    "for sublist in Directors:\n",
    "    if isinstance(sublist[-1],list):\n",
    "        names=sublist[:-1]+sublist[-1]\n",
    "    else:\n",
    "        names=sublist\n",
    "        \n",
    "    rows.append(names)\n",
    "    \n",
    "df_d=pd.DataFrame(rows)\n",
    "df_d=df_d.explode(0).reset_index(drop=True)\n",
    "df_d.rename(columns={0:'Director_Star'},inplace=True)\n",
    "print(df_d)"
   ]
  },
  {
   "cell_type": "code",
   "execution_count": 68,
   "id": "d48ef167",
   "metadata": {},
   "outputs": [
    {
     "data": {
      "text/html": [
       "<div>\n",
       "<style scoped>\n",
       "    .dataframe tbody tr th:only-of-type {\n",
       "        vertical-align: middle;\n",
       "    }\n",
       "\n",
       "    .dataframe tbody tr th {\n",
       "        vertical-align: top;\n",
       "    }\n",
       "\n",
       "    .dataframe thead th {\n",
       "        text-align: right;\n",
       "    }\n",
       "</style>\n",
       "<table border=\"1\" class=\"dataframe\">\n",
       "  <thead>\n",
       "    <tr style=\"text-align: right;\">\n",
       "      <th></th>\n",
       "      <th>Serial No.</th>\n",
       "      <th>Movie Name</th>\n",
       "      <th>Year</th>\n",
       "      <th>Director</th>\n",
       "      <th>Duration</th>\n",
       "      <th>Ratings</th>\n",
       "      <th>Metascore</th>\n",
       "    </tr>\n",
       "  </thead>\n",
       "  <tbody>\n",
       "    <tr>\n",
       "      <th>0</th>\n",
       "      <td>1.</td>\n",
       "      <td>The Dark Knight</td>\n",
       "      <td>(2008)</td>\n",
       "      <td>[Christopher Nolan, Christian Bale, Heath Ledg...</td>\n",
       "      <td>152 min</td>\n",
       "      <td>9.0</td>\n",
       "      <td>84</td>\n",
       "    </tr>\n",
       "    <tr>\n",
       "      <th>1</th>\n",
       "      <td>2.</td>\n",
       "      <td>The Lord of the Rings: The Return of the King</td>\n",
       "      <td>(2003)</td>\n",
       "      <td>[Peter Jackson, Elijah Wood, Viggo Mortensen, ...</td>\n",
       "      <td>201 min</td>\n",
       "      <td>9.0</td>\n",
       "      <td>94</td>\n",
       "    </tr>\n",
       "    <tr>\n",
       "      <th>2</th>\n",
       "      <td>3.</td>\n",
       "      <td>Spider-Man: Across the Spider-Verse</td>\n",
       "      <td>(2023)</td>\n",
       "      <td>[Joaquim Dos Santos, Kemp Powers, Justin K. Th...</td>\n",
       "      <td>140 min</td>\n",
       "      <td>8.9</td>\n",
       "      <td>86</td>\n",
       "    </tr>\n",
       "    <tr>\n",
       "      <th>3</th>\n",
       "      <td>4.</td>\n",
       "      <td>Inception</td>\n",
       "      <td>(2010)</td>\n",
       "      <td>[Christopher Nolan, Leonardo DiCaprio, Joseph ...</td>\n",
       "      <td>148 min</td>\n",
       "      <td>8.8</td>\n",
       "      <td>74</td>\n",
       "    </tr>\n",
       "    <tr>\n",
       "      <th>4</th>\n",
       "      <td>5.</td>\n",
       "      <td>The Lord of the Rings: The Fellowship of the Ring</td>\n",
       "      <td>(2001)</td>\n",
       "      <td>[Peter Jackson, Elijah Wood, Ian McKellen, Orl...</td>\n",
       "      <td>178 min</td>\n",
       "      <td>8.8</td>\n",
       "      <td>92</td>\n",
       "    </tr>\n",
       "    <tr>\n",
       "      <th>...</th>\n",
       "      <td>...</td>\n",
       "      <td>...</td>\n",
       "      <td>...</td>\n",
       "      <td>...</td>\n",
       "      <td>...</td>\n",
       "      <td>...</td>\n",
       "      <td>...</td>\n",
       "    </tr>\n",
       "    <tr>\n",
       "      <th>1764</th>\n",
       "      <td>1,765.</td>\n",
       "      <td>Radhe</td>\n",
       "      <td>(2021)</td>\n",
       "      <td>[Prabhu Deva, Salman Khan, Disha Patani, Rande...</td>\n",
       "      <td>109 min</td>\n",
       "      <td>1.9</td>\n",
       "      <td>-</td>\n",
       "    </tr>\n",
       "    <tr>\n",
       "      <th>1765</th>\n",
       "      <td>1,766.</td>\n",
       "      <td>Race 3</td>\n",
       "      <td>(2018)</td>\n",
       "      <td>[Remo D'Souza, Anil Kapoor, Salman Khan, Bobby...</td>\n",
       "      <td>160 min</td>\n",
       "      <td>1.9</td>\n",
       "      <td>-</td>\n",
       "    </tr>\n",
       "    <tr>\n",
       "      <th>1766</th>\n",
       "      <td>1,767.</td>\n",
       "      <td>Angels Apocalypse</td>\n",
       "      <td>(2015)</td>\n",
       "      <td>[Sean Cain, Enzo Zelocchi, Enzo Zelocchi, Jana...</td>\n",
       "      <td>85 min</td>\n",
       "      <td>1.6</td>\n",
       "      <td>-</td>\n",
       "    </tr>\n",
       "    <tr>\n",
       "      <th>1767</th>\n",
       "      <td>1,768.</td>\n",
       "      <td>The Cost of Deception</td>\n",
       "      <td>(2021)</td>\n",
       "      <td>[Keith English, Vivianne Bánovits, András Móze...</td>\n",
       "      <td>125 min</td>\n",
       "      <td>1.5</td>\n",
       "      <td>-</td>\n",
       "    </tr>\n",
       "    <tr>\n",
       "      <th>1768</th>\n",
       "      <td>1,769.</td>\n",
       "      <td>Sadak 2</td>\n",
       "      <td>(2020)</td>\n",
       "      <td>[Mahesh Bhatt, Alia Bhatt, Pooja Bhatt, Aditya...</td>\n",
       "      <td>133 min</td>\n",
       "      <td>1.2</td>\n",
       "      <td>-</td>\n",
       "    </tr>\n",
       "  </tbody>\n",
       "</table>\n",
       "<p>1769 rows × 7 columns</p>\n",
       "</div>"
      ],
      "text/plain": [
       "     Serial No.                                         Movie Name    Year  \\\n",
       "0            1.                                    The Dark Knight  (2008)   \n",
       "1            2.      The Lord of the Rings: The Return of the King  (2003)   \n",
       "2            3.                Spider-Man: Across the Spider-Verse  (2023)   \n",
       "3            4.                                          Inception  (2010)   \n",
       "4            5.  The Lord of the Rings: The Fellowship of the Ring  (2001)   \n",
       "...         ...                                                ...     ...   \n",
       "1764     1,765.                                              Radhe  (2021)   \n",
       "1765     1,766.                                             Race 3  (2018)   \n",
       "1766     1,767.                                  Angels Apocalypse  (2015)   \n",
       "1767     1,768.                              The Cost of Deception  (2021)   \n",
       "1768     1,769.                                            Sadak 2  (2020)   \n",
       "\n",
       "                                               Director Duration Ratings  \\\n",
       "0     [Christopher Nolan, Christian Bale, Heath Ledg...  152 min     9.0   \n",
       "1     [Peter Jackson, Elijah Wood, Viggo Mortensen, ...  201 min     9.0   \n",
       "2     [Joaquim Dos Santos, Kemp Powers, Justin K. Th...  140 min     8.9   \n",
       "3     [Christopher Nolan, Leonardo DiCaprio, Joseph ...  148 min     8.8   \n",
       "4     [Peter Jackson, Elijah Wood, Ian McKellen, Orl...  178 min     8.8   \n",
       "...                                                 ...      ...     ...   \n",
       "1764  [Prabhu Deva, Salman Khan, Disha Patani, Rande...  109 min     1.9   \n",
       "1765  [Remo D'Souza, Anil Kapoor, Salman Khan, Bobby...  160 min     1.9   \n",
       "1766  [Sean Cain, Enzo Zelocchi, Enzo Zelocchi, Jana...   85 min     1.6   \n",
       "1767  [Keith English, Vivianne Bánovits, András Móze...  125 min     1.5   \n",
       "1768  [Mahesh Bhatt, Alia Bhatt, Pooja Bhatt, Aditya...  133 min     1.2   \n",
       "\n",
       "       Metascore  \n",
       "0     84          \n",
       "1     94          \n",
       "2     86          \n",
       "3     74          \n",
       "4     92          \n",
       "...          ...  \n",
       "1764           -  \n",
       "1765           -  \n",
       "1766           -  \n",
       "1767           -  \n",
       "1768           -  \n",
       "\n",
       "[1769 rows x 7 columns]"
      ]
     },
     "execution_count": 68,
     "metadata": {},
     "output_type": "execute_result"
    }
   ],
   "source": [
    "File1_Series = pd.DataFrame({})\n",
    "File1_Series['Serial No.']=sl_no\n",
    "File1_Series['Movie Name'] = Movie_Name\n",
    "File1_Series['Year'] = Year\n",
    "File1_Series['Director']=Directors\n",
    "File1_Series['Duration'] = Duration\n",
    "File1_Series['Ratings'] = Ratings\n",
    "File1_Series['Metascore']=Metascore\n",
    "File1_Series"
   ]
  },
  {
   "cell_type": "code",
   "execution_count": 70,
   "id": "f6b193fe",
   "metadata": {},
   "outputs": [],
   "source": [
    "File1_Series.to_csv('File_1.csv',index=False)"
   ]
  },
  {
   "cell_type": "code",
   "execution_count": 69,
   "id": "8c8a23c5",
   "metadata": {},
   "outputs": [
    {
     "data": {
      "text/html": [
       "<div>\n",
       "<style scoped>\n",
       "    .dataframe tbody tr th:only-of-type {\n",
       "        vertical-align: middle;\n",
       "    }\n",
       "\n",
       "    .dataframe tbody tr th {\n",
       "        vertical-align: top;\n",
       "    }\n",
       "\n",
       "    .dataframe thead th {\n",
       "        text-align: right;\n",
       "    }\n",
       "</style>\n",
       "<table border=\"1\" class=\"dataframe\">\n",
       "  <thead>\n",
       "    <tr style=\"text-align: right;\">\n",
       "      <th></th>\n",
       "      <th>Movie Name</th>\n",
       "      <th>Gross collection</th>\n",
       "      <th>Stars</th>\n",
       "      <th>Genre</th>\n",
       "      <th>Votes</th>\n",
       "    </tr>\n",
       "  </thead>\n",
       "  <tbody>\n",
       "    <tr>\n",
       "      <th>0</th>\n",
       "      <td>The Dark Knight</td>\n",
       "      <td>$534.86M</td>\n",
       "      <td>[Christian Bale, Heath Ledger, Aaron Eckhart, ...</td>\n",
       "      <td>Action, Crime, Drama</td>\n",
       "      <td>2,739,626</td>\n",
       "    </tr>\n",
       "    <tr>\n",
       "      <th>1</th>\n",
       "      <td>The Lord of the Rings: The Return of the King</td>\n",
       "      <td>$377.85M</td>\n",
       "      <td>[Elijah Wood, Viggo Mortensen, Ian McKellen, O...</td>\n",
       "      <td>Action, Adventure, Drama</td>\n",
       "      <td>1,898,292</td>\n",
       "    </tr>\n",
       "    <tr>\n",
       "      <th>2</th>\n",
       "      <td>Spider-Man: Across the Spider-Verse</td>\n",
       "      <td>-</td>\n",
       "      <td>[Kemp Powers, Justin K. Thompson, Shameik Moor...</td>\n",
       "      <td>Animation, Action, Adventure</td>\n",
       "      <td>183,192</td>\n",
       "    </tr>\n",
       "    <tr>\n",
       "      <th>3</th>\n",
       "      <td>Inception</td>\n",
       "      <td>$292.58M</td>\n",
       "      <td>[Leonardo DiCaprio, Joseph Gordon-Levitt, Elli...</td>\n",
       "      <td>Action, Adventure, Sci-Fi</td>\n",
       "      <td>2,431,118</td>\n",
       "    </tr>\n",
       "    <tr>\n",
       "      <th>4</th>\n",
       "      <td>The Lord of the Rings: The Fellowship of the Ring</td>\n",
       "      <td>$315.54M</td>\n",
       "      <td>[Elijah Wood, Ian McKellen, Orlando Bloom, Sea...</td>\n",
       "      <td>Action, Adventure, Drama</td>\n",
       "      <td>1,926,722</td>\n",
       "    </tr>\n",
       "    <tr>\n",
       "      <th>...</th>\n",
       "      <td>...</td>\n",
       "      <td>...</td>\n",
       "      <td>...</td>\n",
       "      <td>...</td>\n",
       "      <td>...</td>\n",
       "    </tr>\n",
       "    <tr>\n",
       "      <th>1764</th>\n",
       "      <td>Radhe</td>\n",
       "      <td>-</td>\n",
       "      <td>[Salman Khan, Disha Patani, Randeep Hooda, Jac...</td>\n",
       "      <td>Action, Crime, Thriller</td>\n",
       "      <td>179,047</td>\n",
       "    </tr>\n",
       "    <tr>\n",
       "      <th>1765</th>\n",
       "      <td>Race 3</td>\n",
       "      <td>$1.69M</td>\n",
       "      <td>[Anil Kapoor, Salman Khan, Bobby Deol, Jacquel...</td>\n",
       "      <td>Action, Crime, Thriller</td>\n",
       "      <td>47,806</td>\n",
       "    </tr>\n",
       "    <tr>\n",
       "      <th>1766</th>\n",
       "      <td>Angels Apocalypse</td>\n",
       "      <td>-</td>\n",
       "      <td>[Enzo Zelocchi, Enzo Zelocchi, Jana Rochelle, ...</td>\n",
       "      <td>Action, Fantasy, Sci-Fi</td>\n",
       "      <td>42,919</td>\n",
       "    </tr>\n",
       "    <tr>\n",
       "      <th>1767</th>\n",
       "      <td>The Cost of Deception</td>\n",
       "      <td>-</td>\n",
       "      <td>[Vivianne Bánovits, András Mózes, Barna Bokor,...</td>\n",
       "      <td>Action, Crime, Drama</td>\n",
       "      <td>39,598</td>\n",
       "    </tr>\n",
       "    <tr>\n",
       "      <th>1768</th>\n",
       "      <td>Sadak 2</td>\n",
       "      <td>-</td>\n",
       "      <td>[Alia Bhatt, Pooja Bhatt, Aditya Roy Kapoor, S...</td>\n",
       "      <td>Action, Drama</td>\n",
       "      <td>96,349</td>\n",
       "    </tr>\n",
       "  </tbody>\n",
       "</table>\n",
       "<p>1769 rows × 5 columns</p>\n",
       "</div>"
      ],
      "text/plain": [
       "                                             Movie Name Gross collection  \\\n",
       "0                                       The Dark Knight         $534.86M   \n",
       "1         The Lord of the Rings: The Return of the King         $377.85M   \n",
       "2                   Spider-Man: Across the Spider-Verse                -   \n",
       "3                                             Inception         $292.58M   \n",
       "4     The Lord of the Rings: The Fellowship of the Ring         $315.54M   \n",
       "...                                                 ...              ...   \n",
       "1764                                              Radhe                -   \n",
       "1765                                             Race 3           $1.69M   \n",
       "1766                                  Angels Apocalypse                -   \n",
       "1767                              The Cost of Deception                -   \n",
       "1768                                            Sadak 2                -   \n",
       "\n",
       "                                                  Stars  \\\n",
       "0     [Christian Bale, Heath Ledger, Aaron Eckhart, ...   \n",
       "1     [Elijah Wood, Viggo Mortensen, Ian McKellen, O...   \n",
       "2     [Kemp Powers, Justin K. Thompson, Shameik Moor...   \n",
       "3     [Leonardo DiCaprio, Joseph Gordon-Levitt, Elli...   \n",
       "4     [Elijah Wood, Ian McKellen, Orlando Bloom, Sea...   \n",
       "...                                                 ...   \n",
       "1764  [Salman Khan, Disha Patani, Randeep Hooda, Jac...   \n",
       "1765  [Anil Kapoor, Salman Khan, Bobby Deol, Jacquel...   \n",
       "1766  [Enzo Zelocchi, Enzo Zelocchi, Jana Rochelle, ...   \n",
       "1767  [Vivianne Bánovits, András Mózes, Barna Bokor,...   \n",
       "1768  [Alia Bhatt, Pooja Bhatt, Aditya Roy Kapoor, S...   \n",
       "\n",
       "                             Genre      Votes  \n",
       "0             Action, Crime, Drama  2,739,626  \n",
       "1         Action, Adventure, Drama  1,898,292  \n",
       "2     Animation, Action, Adventure    183,192  \n",
       "3        Action, Adventure, Sci-Fi  2,431,118  \n",
       "4         Action, Adventure, Drama  1,926,722  \n",
       "...                            ...        ...  \n",
       "1764       Action, Crime, Thriller    179,047  \n",
       "1765       Action, Crime, Thriller     47,806  \n",
       "1766       Action, Fantasy, Sci-Fi     42,919  \n",
       "1767          Action, Crime, Drama     39,598  \n",
       "1768                 Action, Drama     96,349  \n",
       "\n",
       "[1769 rows x 5 columns]"
      ]
     },
     "execution_count": 69,
     "metadata": {},
     "output_type": "execute_result"
    }
   ],
   "source": [
    "File2_Series = pd.DataFrame({})\n",
    "File2_Series['Movie Name'] = Movie_Name\n",
    "File2_Series['Gross collection']=Gross_collection\n",
    "File2_Series['Stars']=Stars\n",
    "File2_Series['Genre'] = Genre\n",
    "File2_Series['Votes'] = Votes\n",
    "File2_Series"
   ]
  },
  {
   "cell_type": "code",
   "execution_count": 71,
   "id": "2b1e06c6",
   "metadata": {},
   "outputs": [],
   "source": [
    "File2_Series.to_csv('File_2.csv',index=False)"
   ]
  },
  {
   "cell_type": "code",
   "execution_count": null,
   "id": "849f5540",
   "metadata": {},
   "outputs": [],
   "source": []
  }
 ],
 "metadata": {
  "kernelspec": {
   "display_name": "Python 3 (ipykernel)",
   "language": "python",
   "name": "python3"
  },
  "language_info": {
   "codemirror_mode": {
    "name": "ipython",
    "version": 3
   },
   "file_extension": ".py",
   "mimetype": "text/x-python",
   "name": "python",
   "nbconvert_exporter": "python",
   "pygments_lexer": "ipython3",
   "version": "3.9.12"
  }
 },
 "nbformat": 4,
 "nbformat_minor": 5
}
